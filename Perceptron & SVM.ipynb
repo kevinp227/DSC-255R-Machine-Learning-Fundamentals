{
 "cells": [
  {
   "cell_type": "code",
   "execution_count": 1,
   "id": "1c5ea2dc",
   "metadata": {},
   "outputs": [],
   "source": [
    "import pandas as pd\n",
    "import numpy as np\n",
    "import matplotlib.pyplot as plt\n",
    "from sklearn.model_selection import train_test_split\n",
    "from sklearn import svm\n",
    "from sklearn.metrics import mean_squared_error"
   ]
  },
  {
   "cell_type": "markdown",
   "id": "457ded6e",
   "metadata": {},
   "source": [
    "# 1a."
   ]
  },
  {
   "cell_type": "code",
   "execution_count": 6,
   "id": "d911946e",
   "metadata": {},
   "outputs": [],
   "source": [
    "def w_calc(w, b, x):\n",
    "    if (w.dot(x) + b >= 0):\n",
    "        return 1\n",
    "    else: \n",
    "        return -1"
   ]
  },
  {
   "cell_type": "code",
   "execution_count": 3,
   "id": "7faec6a3",
   "metadata": {},
   "outputs": [],
   "source": [
    "def updates(X, y):\n",
    "    X = np.random.permutation(X)\n",
    "    w = np.zeros(len(X[0]))\n",
    "    b = 0\n",
    "    alpha = 1\n",
    "\n",
    "    for i, j in zip(x_feat, y_feat):  \n",
    "        pred = w_calc(w, b, i)      \n",
    "        if (j == pred):    \n",
    "            continue                      \n",
    "        else:\n",
    "            w = w + alpha*(j - pred) * i \n",
    "            b = b + alpha*(j - pred)  \n",
    "            \n",
    "    return w, b"
   ]
  },
  {
   "cell_type": "markdown",
   "id": "a4e5b8b4",
   "metadata": {},
   "source": [
    "# 1b."
   ]
  },
  {
   "cell_type": "code",
   "execution_count": 4,
   "id": "dd16697a",
   "metadata": {},
   "outputs": [],
   "source": [
    "from sklearn import datasets\n",
    "iris = datasets.load_iris()\n",
    "x = iris.data\n",
    "y = iris.target"
   ]
  },
  {
   "cell_type": "code",
   "execution_count": 5,
   "id": "0fb5e9c4",
   "metadata": {},
   "outputs": [],
   "source": [
    "x_rest = np.concatenate((x[:, 1].reshape(150,1), x[:, 3].reshape(150,1)), axis=1)"
   ]
  },
  {
   "cell_type": "code",
   "execution_count": 6,
   "id": "27a257e8",
   "metadata": {},
   "outputs": [],
   "source": [
    "data = np.concatenate((x_rest, y.reshape(150,1)), axis=1)"
   ]
  },
  {
   "cell_type": "code",
   "execution_count": 7,
   "id": "2bff85f9",
   "metadata": {},
   "outputs": [],
   "source": [
    "data = np.delete(data, np.where(\n",
    "    (data[:, 2] == 2)), axis=0)"
   ]
  },
  {
   "cell_type": "code",
   "execution_count": 8,
   "id": "32815595",
   "metadata": {},
   "outputs": [],
   "source": [
    "x_feat = np.concatenate((data[:, 0].reshape(100,1), data[:, 1].reshape(100,1)), axis=1)\n",
    "y_feat = data[:, 2]\n",
    "y_feat[y_feat == 0] = -1"
   ]
  },
  {
   "cell_type": "code",
   "execution_count": 9,
   "id": "e20eeb82",
   "metadata": {},
   "outputs": [
    {
     "data": {
      "text/plain": [
       "array([-1., -1., -1., -1., -1., -1., -1., -1., -1., -1., -1., -1., -1.,\n",
       "       -1., -1., -1., -1., -1., -1., -1., -1., -1., -1., -1., -1., -1.,\n",
       "       -1., -1., -1., -1., -1., -1., -1., -1., -1., -1., -1., -1., -1.,\n",
       "       -1., -1., -1., -1., -1., -1., -1., -1., -1., -1., -1.,  1.,  1.,\n",
       "        1.,  1.,  1.,  1.,  1.,  1.,  1.,  1.,  1.,  1.,  1.,  1.,  1.,\n",
       "        1.,  1.,  1.,  1.,  1.,  1.,  1.,  1.,  1.,  1.,  1.,  1.,  1.,\n",
       "        1.,  1.,  1.,  1.,  1.,  1.,  1.,  1.,  1.,  1.,  1.,  1.,  1.,\n",
       "        1.,  1.,  1.,  1.,  1.,  1.,  1.,  1.,  1.])"
      ]
     },
     "execution_count": 9,
     "metadata": {},
     "output_type": "execute_result"
    }
   ],
   "source": [
    "y_feat"
   ]
  },
  {
   "cell_type": "markdown",
   "id": "e1dd3b10",
   "metadata": {},
   "source": [
    "# 1c."
   ]
  },
  {
   "cell_type": "code",
   "execution_count": 10,
   "id": "df41fc8c",
   "metadata": {},
   "outputs": [
    {
     "data": {
      "image/png": "[encoded data removed]",
      "text/plain": [
       "<Figure size 432x288 with 1 Axes>"
      ]
     },
     "metadata": {
      "needs_background": "light"
     },
     "output_type": "display_data"
    }
   ],
   "source": [
    "plt.scatter(x=x_feat[:, 0], y=x_feat[:, 1], c=y_feat)\n",
    "\n",
    "w, b = updates(x_feat, y_feat)     \n",
    "x_points = np.linspace(min(x_feat[:, 0]),max(x_feat[:, 0]))    \n",
    "y_points = -w[0]*x_points/w[1]-b/w[1]\n",
    "\n",
    "\n",
    "plt.plot(x_points, y_points, c='b');"
   ]
  },
  {
   "cell_type": "markdown",
   "id": "1c0d529a",
   "metadata": {},
   "source": [
    "# 1d."
   ]
  },
  {
   "cell_type": "code",
   "execution_count": 11,
   "id": "ee865826",
   "metadata": {},
   "outputs": [],
   "source": [
    "def updates(X, y):\n",
    "    X = np.random.permutation(X)\n",
    "    w = np.zeros(len(X[0]))\n",
    "    b = 0\n",
    "    alpha = 1\n",
    "    count = 0\n",
    "\n",
    "    for i, j in zip(X, y):  \n",
    "        pred = w_calc(w, b, i)      \n",
    "        if (j == pred):    \n",
    "            continue                      \n",
    "        else:\n",
    "            w = w + alpha*(j - pred) * i \n",
    "            b = b + alpha*(j - pred)  \n",
    "            count = count + 1\n",
    "            \n",
    "    return w, b, count"
   ]
  },
  {
   "cell_type": "code",
   "execution_count": 12,
   "id": "fad45efc",
   "metadata": {},
   "outputs": [
    {
     "data": {
      "text/plain": [
       "[2, 3, 3, 2, 2, 2, 2, 3, 2, 2, 2, 3, 3, 3, 3, 3, 3, 2, 3, 3]"
      ]
     },
     "execution_count": 12,
     "metadata": {},
     "output_type": "execute_result"
    }
   ],
   "source": [
    "num_update = []\n",
    "\n",
    "W = np.zeros(len(x_feat[0]))\n",
    "b = 0\n",
    "\n",
    "counter= 0\n",
    "while counter < 20:\n",
    "    # change the applied function below\n",
    "    w,b,count = updates(x_feat, y_feat)\n",
    "    num_update.append(count)\n",
    "    counter += 1\n",
    "    \n",
    "num_update"
   ]
  },
  {
   "cell_type": "code",
   "execution_count": 13,
   "id": "2c67f548",
   "metadata": {},
   "outputs": [
    {
     "data": {
      "text/plain": [
       "(array([ 9.,  0.,  0.,  0.,  0.,  0.,  0.,  0.,  0., 11.]),\n",
       " array([2. , 2.1, 2.2, 2.3, 2.4, 2.5, 2.6, 2.7, 2.8, 2.9, 3. ]),\n",
       " <BarContainer object of 10 artists>)"
      ]
     },
     "execution_count": 13,
     "metadata": {},
     "output_type": "execute_result"
    },
    {
     "data": {
      "image/png": "[encoded data removed]",
      "text/plain": [
       "<Figure size 432x288 with 1 Axes>"
      ]
     },
     "metadata": {
      "needs_background": "light"
     },
     "output_type": "display_data"
    }
   ],
   "source": [
    "plt.hist(num_update)"
   ]
  },
  {
   "cell_type": "markdown",
   "id": "abb1d0bf",
   "metadata": {},
   "source": [
    "# 2a."
   ]
  },
  {
   "cell_type": "code",
   "execution_count": 14,
   "id": "621aacf9",
   "metadata": {},
   "outputs": [],
   "source": [
    "x_rest = np.concatenate((x[:, 0].reshape(150,1), x[:, 2].reshape(150,1)), axis=1)"
   ]
  },
  {
   "cell_type": "code",
   "execution_count": 15,
   "id": "34ae1f06",
   "metadata": {},
   "outputs": [],
   "source": [
    "data = np.concatenate((x_rest, y.reshape(150,1)), axis=1)"
   ]
  },
  {
   "cell_type": "code",
   "execution_count": 16,
   "id": "8c0b541a",
   "metadata": {},
   "outputs": [],
   "source": [
    "data = np.delete(data, np.where((data[:, 2] == 0)), axis=0)"
   ]
  },
  {
   "cell_type": "code",
   "execution_count": 17,
   "id": "1c8a3bf7",
   "metadata": {},
   "outputs": [],
   "source": [
    "x_feat = np.concatenate((data[:, 0].reshape(100,1), data[:, 1].reshape(100,1)), axis=1)\n",
    "y_feat = data[:, 2]"
   ]
  },
  {
   "cell_type": "code",
   "execution_count": 18,
   "id": "08bad8af",
   "metadata": {},
   "outputs": [
    {
     "data": {
      "image/png": "[encoded data removed]",
      "text/plain": [
       "<Figure size 432x288 with 1 Axes>"
      ]
     },
     "metadata": {
      "needs_background": "light"
     },
     "output_type": "display_data"
    }
   ],
   "source": [
    "plt.scatter(x_feat[:,0], x_feat[:,1], c = (y_feat == 1))\n",
    "plt.show()"
   ]
  },
  {
   "cell_type": "markdown",
   "id": "a6fb0ce6",
   "metadata": {},
   "source": [
    "No this data is not linearly separable."
   ]
  },
  {
   "cell_type": "markdown",
   "id": "fb521d42",
   "metadata": {},
   "source": [
    "# 2b."
   ]
  },
  {
   "cell_type": "code",
   "execution_count": 19,
   "id": "357ab48c",
   "metadata": {},
   "outputs": [],
   "source": [
    "# Split dataset into training set and test set\n",
    "X_train, X_test, y_train, y_test = train_test_split(x_feat, y_feat, test_size=0.2,random_state=0) "
   ]
  },
  {
   "cell_type": "code",
   "execution_count": 20,
   "id": "68e23743",
   "metadata": {},
   "outputs": [],
   "source": [
    "c = [0.0001, 0.001, 0.01, 0.1, 1, 10, 100, 1000, 10000, 100000]\n",
    "training_error = []\n",
    "support_vector_num = []\n",
    "\n",
    "for i in range(len(c)):\n",
    "    clf = svm.SVC(kernel='linear', C=c[i]) \n",
    "    clf.fit(X_train, y_train)\n",
    "    support_vector_num.append(len(clf.support_vectors_))\n",
    "    y_pred = clf.predict(X_train)\n",
    "    training_error.append(mean_squared_error(y_train,y_pred))"
   ]
  },
  {
   "cell_type": "code",
   "execution_count": 21,
   "id": "7a5a977f",
   "metadata": {},
   "outputs": [],
   "source": [
    "C = np.array(c).reshape(10,1)\n",
    "TE = np.array(training_error).reshape(10,1)\n",
    "SVN = np.array(support_vector_num).reshape(10,1)"
   ]
  },
  {
   "cell_type": "code",
   "execution_count": 22,
   "id": "4c0d85cf",
   "metadata": {},
   "outputs": [
    {
     "data": {
      "text/plain": [
       "array([[0.000100, 0.162500, 80.000000],\n",
       "       [0.001000, 0.162500, 80.000000],\n",
       "       [0.010000, 0.162500, 76.000000],\n",
       "       [0.100000, 0.062500, 46.000000],\n",
       "       [1.000000, 0.050000, 24.000000],\n",
       "       [10.000000, 0.025000, 13.000000],\n",
       "       [100.000000, 0.037500, 8.000000],\n",
       "       [1000.000000, 0.037500, 7.000000],\n",
       "       [10000.000000, 0.037500, 7.000000],\n",
       "       [100000.000000, 0.037500, 6.000000]])"
      ]
     },
     "execution_count": 22,
     "metadata": {},
     "output_type": "execute_result"
    }
   ],
   "source": [
    "answers = np.concatenate((C, TE, SVN), axis=1)\n",
    "np.set_printoptions(formatter={'float_kind':'{:f}'.format})\n",
    "answers"
   ]
  },
  {
   "cell_type": "markdown",
   "id": "9318cde0",
   "metadata": {},
   "source": [
    "# 2c."
   ]
  },
  {
   "cell_type": "markdown",
   "id": "844d444e",
   "metadata": {},
   "source": [
    "The c value of 10 is the best because it has the lowest training error."
   ]
  },
  {
   "cell_type": "code",
   "execution_count": 23,
   "id": "ed698a1c",
   "metadata": {},
   "outputs": [
    {
     "data": {
      "text/plain": [
       "SVC(C=10, kernel='linear')"
      ]
     },
     "execution_count": 23,
     "metadata": {},
     "output_type": "execute_result"
    }
   ],
   "source": [
    "clf = svm.SVC(kernel='linear', C=10) \n",
    "clf.fit(X_train, y_train)"
   ]
  },
  {
   "cell_type": "code",
   "execution_count": 24,
   "id": "be716226",
   "metadata": {},
   "outputs": [
    {
     "data": {
      "image/png": "[encoded data removed]",
      "text/plain": [
       "<Figure size 432x288 with 1 Axes>"
      ]
     },
     "metadata": {
      "needs_background": "light"
     },
     "output_type": "display_data"
    }
   ],
   "source": [
    "plt.scatter(x=X_train[:, 0], y=X_train[:, 1], c=y_train)\n",
    "\n",
    "w = clf.coef_[0]          \n",
    "b = clf.intercept_[0]      \n",
    "x_points = np.linspace(min(X_train[:, 0]), max(X_train[:, 0]))    \n",
    "y_points = -(w[0] / w[1]) * x_points - b / w[1]  \n",
    "plt.plot(x_points, y_points, c='b');"
   ]
  },
  {
   "cell_type": "code",
   "execution_count": null,
   "id": "3f35a04c",
   "metadata": {},
   "outputs": [],
   "source": []
  }
 ],
 "metadata": {
  "kernelspec": {
   "display_name": "Python 3 (ipykernel)",
   "language": "python",
   "name": "python3"
  },
  "language_info": {
   "codemirror_mode": {
    "name": "ipython",
    "version": 3
   },
   "file_extension": ".py",
   "mimetype": "text/x-python",
   "name": "python",
   "nbconvert_exporter": "python",
   "pygments_lexer": "ipython3",
   "version": "3.9.12"
  }
 },
 "nbformat": 4,
 "nbformat_minor": 5
}
