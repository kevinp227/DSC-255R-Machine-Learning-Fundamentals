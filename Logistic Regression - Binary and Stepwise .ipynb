{
 "cells": [
  {
   "cell_type": "code",
   "execution_count": 1,
   "id": "4b8501f6",
   "metadata": {},
   "outputs": [],
   "source": [
    "import pandas as pd\n",
    "import numpy as np\n",
    "from sklearn.model_selection import train_test_split\n",
    "from sklearn.linear_model import LogisticRegression\n",
    "from sklearn.metrics import mean_squared_error\n",
    "from sklearn.model_selection import KFold\n",
    "from sklearn.model_selection import cross_val_predict\n",
    "\n",
    "from sklearn.feature_selection import SelectFromModel\n",
    "from sklearn.linear_model import Ridge\n",
    "\n",
    "from sklearn.feature_selection import SequentialFeatureSelector\n",
    "\n",
    "import matplotlib.pyplot as plt"
   ]
  },
  {
   "cell_type": "markdown",
   "id": "e229268b",
   "metadata": {},
   "source": [
    "# Question 1"
   ]
  },
  {
   "cell_type": "markdown",
   "id": "af28953c",
   "metadata": {},
   "source": [
    "### 1a."
   ]
  },
  {
   "cell_type": "markdown",
   "id": "6339ff7d",
   "metadata": {},
   "source": [
    "I will use Ridge regression because we are trying to identify multiple features, implying that there is an importance on all of these features rather than only finding a few and ignoring the rest where lasso regression would have been better. I will use sklearns feature selection and a Ridge estimator in order to find ten features within the dataset and get the coordinate numbers."
   ]
  },
  {
   "cell_type": "markdown",
   "id": "f06c73d7",
   "metadata": {},
   "source": [
    "### 1b."
   ]
  },
  {
   "cell_type": "code",
   "execution_count": 2,
   "id": "bfb9fb27",
   "metadata": {},
   "outputs": [
    {
     "data": {
      "text/html": [
       "<div>\n",
       "<style scoped>\n",
       "    .dataframe tbody tr th:only-of-type {\n",
       "        vertical-align: middle;\n",
       "    }\n",
       "\n",
       "    .dataframe tbody tr th {\n",
       "        vertical-align: top;\n",
       "    }\n",
       "\n",
       "    .dataframe thead th {\n",
       "        text-align: right;\n",
       "    }\n",
       "</style>\n",
       "<table border=\"1\" class=\"dataframe\">\n",
       "  <thead>\n",
       "    <tr style=\"text-align: right;\">\n",
       "      <th></th>\n",
       "      <th>0</th>\n",
       "      <th>1</th>\n",
       "      <th>2</th>\n",
       "      <th>3</th>\n",
       "      <th>4</th>\n",
       "      <th>5</th>\n",
       "      <th>6</th>\n",
       "      <th>7</th>\n",
       "      <th>8</th>\n",
       "      <th>9</th>\n",
       "      <th>...</th>\n",
       "      <th>91</th>\n",
       "      <th>92</th>\n",
       "      <th>93</th>\n",
       "      <th>94</th>\n",
       "      <th>95</th>\n",
       "      <th>96</th>\n",
       "      <th>97</th>\n",
       "      <th>98</th>\n",
       "      <th>99</th>\n",
       "      <th>100</th>\n",
       "    </tr>\n",
       "  </thead>\n",
       "  <tbody>\n",
       "    <tr>\n",
       "      <th>0</th>\n",
       "      <td>0.63311</td>\n",
       "      <td>-1.71313</td>\n",
       "      <td>-0.48056</td>\n",
       "      <td>-0.32540</td>\n",
       "      <td>-0.05102</td>\n",
       "      <td>0.05634</td>\n",
       "      <td>-1.63462</td>\n",
       "      <td>-0.58081</td>\n",
       "      <td>0.70627</td>\n",
       "      <td>-2.06938</td>\n",
       "      <td>...</td>\n",
       "      <td>0.69346</td>\n",
       "      <td>0.49371</td>\n",
       "      <td>-0.15578</td>\n",
       "      <td>1.02650</td>\n",
       "      <td>0.48640</td>\n",
       "      <td>0.32758</td>\n",
       "      <td>-2.28887</td>\n",
       "      <td>-0.00430</td>\n",
       "      <td>-0.39673</td>\n",
       "      <td>-6.07560</td>\n",
       "    </tr>\n",
       "    <tr>\n",
       "      <th>1</th>\n",
       "      <td>0.82710</td>\n",
       "      <td>-0.45099</td>\n",
       "      <td>0.62209</td>\n",
       "      <td>-0.24694</td>\n",
       "      <td>0.53069</td>\n",
       "      <td>0.84492</td>\n",
       "      <td>0.37463</td>\n",
       "      <td>-0.61650</td>\n",
       "      <td>-0.00887</td>\n",
       "      <td>0.51328</td>\n",
       "      <td>...</td>\n",
       "      <td>1.12702</td>\n",
       "      <td>0.53821</td>\n",
       "      <td>1.69800</td>\n",
       "      <td>0.65812</td>\n",
       "      <td>0.18004</td>\n",
       "      <td>0.31097</td>\n",
       "      <td>0.42096</td>\n",
       "      <td>0.43610</td>\n",
       "      <td>-0.09575</td>\n",
       "      <td>4.03525</td>\n",
       "    </tr>\n",
       "    <tr>\n",
       "      <th>2</th>\n",
       "      <td>-0.25135</td>\n",
       "      <td>-0.22821</td>\n",
       "      <td>-0.65147</td>\n",
       "      <td>0.52365</td>\n",
       "      <td>-0.58971</td>\n",
       "      <td>0.02787</td>\n",
       "      <td>0.27812</td>\n",
       "      <td>0.21289</td>\n",
       "      <td>1.08754</td>\n",
       "      <td>-0.28801</td>\n",
       "      <td>...</td>\n",
       "      <td>-0.08484</td>\n",
       "      <td>0.00259</td>\n",
       "      <td>1.98580</td>\n",
       "      <td>0.39629</td>\n",
       "      <td>-1.37305</td>\n",
       "      <td>1.66343</td>\n",
       "      <td>-1.25645</td>\n",
       "      <td>-0.41212</td>\n",
       "      <td>0.78800</td>\n",
       "      <td>-3.57768</td>\n",
       "    </tr>\n",
       "    <tr>\n",
       "      <th>3</th>\n",
       "      <td>0.46192</td>\n",
       "      <td>0.16546</td>\n",
       "      <td>2.87388</td>\n",
       "      <td>-0.65411</td>\n",
       "      <td>0.76601</td>\n",
       "      <td>1.54346</td>\n",
       "      <td>-1.08101</td>\n",
       "      <td>-1.00728</td>\n",
       "      <td>-0.01883</td>\n",
       "      <td>0.41995</td>\n",
       "      <td>...</td>\n",
       "      <td>0.72389</td>\n",
       "      <td>1.27442</td>\n",
       "      <td>-0.69487</td>\n",
       "      <td>0.47128</td>\n",
       "      <td>0.54426</td>\n",
       "      <td>1.18577</td>\n",
       "      <td>0.00389</td>\n",
       "      <td>0.90909</td>\n",
       "      <td>1.44143</td>\n",
       "      <td>-1.01789</td>\n",
       "    </tr>\n",
       "    <tr>\n",
       "      <th>4</th>\n",
       "      <td>-1.50107</td>\n",
       "      <td>2.05339</td>\n",
       "      <td>0.03820</td>\n",
       "      <td>0.27116</td>\n",
       "      <td>-0.07920</td>\n",
       "      <td>-0.53648</td>\n",
       "      <td>0.32249</td>\n",
       "      <td>-0.57844</td>\n",
       "      <td>-0.66211</td>\n",
       "      <td>-0.73749</td>\n",
       "      <td>...</td>\n",
       "      <td>0.07916</td>\n",
       "      <td>-0.34523</td>\n",
       "      <td>1.09813</td>\n",
       "      <td>1.78102</td>\n",
       "      <td>-1.06170</td>\n",
       "      <td>-1.74101</td>\n",
       "      <td>1.96249</td>\n",
       "      <td>-0.86213</td>\n",
       "      <td>-1.88139</td>\n",
       "      <td>4.54025</td>\n",
       "    </tr>\n",
       "    <tr>\n",
       "      <th>...</th>\n",
       "      <td>...</td>\n",
       "      <td>...</td>\n",
       "      <td>...</td>\n",
       "      <td>...</td>\n",
       "      <td>...</td>\n",
       "      <td>...</td>\n",
       "      <td>...</td>\n",
       "      <td>...</td>\n",
       "      <td>...</td>\n",
       "      <td>...</td>\n",
       "      <td>...</td>\n",
       "      <td>...</td>\n",
       "      <td>...</td>\n",
       "      <td>...</td>\n",
       "      <td>...</td>\n",
       "      <td>...</td>\n",
       "      <td>...</td>\n",
       "      <td>...</td>\n",
       "      <td>...</td>\n",
       "      <td>...</td>\n",
       "      <td>...</td>\n",
       "    </tr>\n",
       "    <tr>\n",
       "      <th>96</th>\n",
       "      <td>-0.68050</td>\n",
       "      <td>-0.43706</td>\n",
       "      <td>1.08467</td>\n",
       "      <td>-0.08860</td>\n",
       "      <td>-0.75584</td>\n",
       "      <td>-0.51020</td>\n",
       "      <td>-0.12227</td>\n",
       "      <td>0.76625</td>\n",
       "      <td>0.09844</td>\n",
       "      <td>0.79460</td>\n",
       "      <td>...</td>\n",
       "      <td>1.39146</td>\n",
       "      <td>-2.31016</td>\n",
       "      <td>0.34400</td>\n",
       "      <td>0.46904</td>\n",
       "      <td>1.13855</td>\n",
       "      <td>0.54741</td>\n",
       "      <td>2.63132</td>\n",
       "      <td>-1.86386</td>\n",
       "      <td>-0.01147</td>\n",
       "      <td>-2.87495</td>\n",
       "    </tr>\n",
       "    <tr>\n",
       "      <th>97</th>\n",
       "      <td>-0.04866</td>\n",
       "      <td>0.29133</td>\n",
       "      <td>-1.72828</td>\n",
       "      <td>-0.45218</td>\n",
       "      <td>0.59248</td>\n",
       "      <td>0.51923</td>\n",
       "      <td>0.18951</td>\n",
       "      <td>-0.91447</td>\n",
       "      <td>0.36181</td>\n",
       "      <td>-0.20676</td>\n",
       "      <td>...</td>\n",
       "      <td>1.02579</td>\n",
       "      <td>-1.11850</td>\n",
       "      <td>1.11086</td>\n",
       "      <td>-1.74939</td>\n",
       "      <td>1.30350</td>\n",
       "      <td>1.47213</td>\n",
       "      <td>0.83292</td>\n",
       "      <td>-1.64844</td>\n",
       "      <td>0.99595</td>\n",
       "      <td>4.22825</td>\n",
       "    </tr>\n",
       "    <tr>\n",
       "      <th>98</th>\n",
       "      <td>0.85169</td>\n",
       "      <td>-0.63504</td>\n",
       "      <td>-1.96589</td>\n",
       "      <td>0.04994</td>\n",
       "      <td>0.98394</td>\n",
       "      <td>0.96469</td>\n",
       "      <td>-0.67908</td>\n",
       "      <td>-0.90963</td>\n",
       "      <td>-0.98677</td>\n",
       "      <td>-0.85608</td>\n",
       "      <td>...</td>\n",
       "      <td>-0.48633</td>\n",
       "      <td>0.45576</td>\n",
       "      <td>0.35485</td>\n",
       "      <td>-0.95341</td>\n",
       "      <td>0.47911</td>\n",
       "      <td>-0.92630</td>\n",
       "      <td>1.76321</td>\n",
       "      <td>-0.05456</td>\n",
       "      <td>-0.40289</td>\n",
       "      <td>-4.60459</td>\n",
       "    </tr>\n",
       "    <tr>\n",
       "      <th>99</th>\n",
       "      <td>0.50464</td>\n",
       "      <td>1.18625</td>\n",
       "      <td>-0.54312</td>\n",
       "      <td>0.11166</td>\n",
       "      <td>-0.40399</td>\n",
       "      <td>-0.63077</td>\n",
       "      <td>-1.34732</td>\n",
       "      <td>-0.97678</td>\n",
       "      <td>-0.62806</td>\n",
       "      <td>-0.23150</td>\n",
       "      <td>...</td>\n",
       "      <td>-0.38290</td>\n",
       "      <td>0.23060</td>\n",
       "      <td>-1.06765</td>\n",
       "      <td>-0.12734</td>\n",
       "      <td>-0.94222</td>\n",
       "      <td>0.94762</td>\n",
       "      <td>-1.79318</td>\n",
       "      <td>0.16694</td>\n",
       "      <td>-1.12890</td>\n",
       "      <td>-2.31289</td>\n",
       "    </tr>\n",
       "    <tr>\n",
       "      <th>100</th>\n",
       "      <td>0.62023</td>\n",
       "      <td>0.99255</td>\n",
       "      <td>-0.83880</td>\n",
       "      <td>-2.00780</td>\n",
       "      <td>-1.50414</td>\n",
       "      <td>-0.77133</td>\n",
       "      <td>-1.58600</td>\n",
       "      <td>-0.90523</td>\n",
       "      <td>-1.25421</td>\n",
       "      <td>0.86554</td>\n",
       "      <td>...</td>\n",
       "      <td>-0.85442</td>\n",
       "      <td>1.39371</td>\n",
       "      <td>-0.91005</td>\n",
       "      <td>0.74747</td>\n",
       "      <td>-0.08224</td>\n",
       "      <td>0.18000</td>\n",
       "      <td>-0.65921</td>\n",
       "      <td>0.06566</td>\n",
       "      <td>0.15351</td>\n",
       "      <td>-1.24437</td>\n",
       "    </tr>\n",
       "  </tbody>\n",
       "</table>\n",
       "<p>101 rows × 101 columns</p>\n",
       "</div>"
      ],
      "text/plain": [
       "         0        1        2        3        4        5        6        7    \\\n",
       "0    0.63311 -1.71313 -0.48056 -0.32540 -0.05102  0.05634 -1.63462 -0.58081   \n",
       "1    0.82710 -0.45099  0.62209 -0.24694  0.53069  0.84492  0.37463 -0.61650   \n",
       "2   -0.25135 -0.22821 -0.65147  0.52365 -0.58971  0.02787  0.27812  0.21289   \n",
       "3    0.46192  0.16546  2.87388 -0.65411  0.76601  1.54346 -1.08101 -1.00728   \n",
       "4   -1.50107  2.05339  0.03820  0.27116 -0.07920 -0.53648  0.32249 -0.57844   \n",
       "..       ...      ...      ...      ...      ...      ...      ...      ...   \n",
       "96  -0.68050 -0.43706  1.08467 -0.08860 -0.75584 -0.51020 -0.12227  0.76625   \n",
       "97  -0.04866  0.29133 -1.72828 -0.45218  0.59248  0.51923  0.18951 -0.91447   \n",
       "98   0.85169 -0.63504 -1.96589  0.04994  0.98394  0.96469 -0.67908 -0.90963   \n",
       "99   0.50464  1.18625 -0.54312  0.11166 -0.40399 -0.63077 -1.34732 -0.97678   \n",
       "100  0.62023  0.99255 -0.83880 -2.00780 -1.50414 -0.77133 -1.58600 -0.90523   \n",
       "\n",
       "         8        9    ...      91       92       93       94       95   \\\n",
       "0    0.70627 -2.06938  ...  0.69346  0.49371 -0.15578  1.02650  0.48640   \n",
       "1   -0.00887  0.51328  ...  1.12702  0.53821  1.69800  0.65812  0.18004   \n",
       "2    1.08754 -0.28801  ... -0.08484  0.00259  1.98580  0.39629 -1.37305   \n",
       "3   -0.01883  0.41995  ...  0.72389  1.27442 -0.69487  0.47128  0.54426   \n",
       "4   -0.66211 -0.73749  ...  0.07916 -0.34523  1.09813  1.78102 -1.06170   \n",
       "..       ...      ...  ...      ...      ...      ...      ...      ...   \n",
       "96   0.09844  0.79460  ...  1.39146 -2.31016  0.34400  0.46904  1.13855   \n",
       "97   0.36181 -0.20676  ...  1.02579 -1.11850  1.11086 -1.74939  1.30350   \n",
       "98  -0.98677 -0.85608  ... -0.48633  0.45576  0.35485 -0.95341  0.47911   \n",
       "99  -0.62806 -0.23150  ... -0.38290  0.23060 -1.06765 -0.12734 -0.94222   \n",
       "100 -1.25421  0.86554  ... -0.85442  1.39371 -0.91005  0.74747 -0.08224   \n",
       "\n",
       "         96       97       98       99       100  \n",
       "0    0.32758 -2.28887 -0.00430 -0.39673 -6.07560  \n",
       "1    0.31097  0.42096  0.43610 -0.09575  4.03525  \n",
       "2    1.66343 -1.25645 -0.41212  0.78800 -3.57768  \n",
       "3    1.18577  0.00389  0.90909  1.44143 -1.01789  \n",
       "4   -1.74101  1.96249 -0.86213 -1.88139  4.54025  \n",
       "..       ...      ...      ...      ...      ...  \n",
       "96   0.54741  2.63132 -1.86386 -0.01147 -2.87495  \n",
       "97   1.47213  0.83292 -1.64844  0.99595  4.22825  \n",
       "98  -0.92630  1.76321 -0.05456 -0.40289 -4.60459  \n",
       "99   0.94762 -1.79318  0.16694 -1.12890 -2.31289  \n",
       "100  0.18000 -0.65921  0.06566  0.15351 -1.24437  \n",
       "\n",
       "[101 rows x 101 columns]"
      ]
     },
     "execution_count": 2,
     "metadata": {},
     "output_type": "execute_result"
    }
   ],
   "source": [
    "# read in csv\n",
    "mystery = pd.read_csv('mystery.dat', header = None)\n",
    "mystery"
   ]
  },
  {
   "cell_type": "code",
   "execution_count": 3,
   "id": "9dc43563",
   "metadata": {},
   "outputs": [],
   "source": [
    "# split data\n",
    "X = mystery.iloc[: , :-1]\n",
    "y = mystery.iloc[: , -1:]\n",
    "X_train, X_test, y_train, y_test = train_test_split(X, y, test_size=0.2, random_state=0)"
   ]
  },
  {
   "cell_type": "code",
   "execution_count": 4,
   "id": "5bc5a3d5",
   "metadata": {},
   "outputs": [],
   "source": [
    "# create and fit classifier to select model\n",
    "selector = SelectFromModel(estimator=Ridge(), threshold=-np.inf, max_features = 10).fit(X_train, y_train)"
   ]
  },
  {
   "cell_type": "code",
   "execution_count": 5,
   "id": "6937f644",
   "metadata": {},
   "outputs": [
    {
     "data": {
      "text/plain": [
       "[1, 2, 4, 6, 10, 12, 16, 18, 22, 26]"
      ]
     },
     "execution_count": 5,
     "metadata": {},
     "output_type": "execute_result"
    }
   ],
   "source": [
    "# get ten features\n",
    "selected_feat = X_train.columns[(selector.get_support())]\n",
    "selected_feat = selected_feat.tolist()\n",
    "selected_feat"
   ]
  },
  {
   "cell_type": "markdown",
   "id": "85f25cde",
   "metadata": {},
   "source": [
    "The features that I have identified are: 1, 2, 4, 6, 10, 12, 16, 18, 22, and 26."
   ]
  },
  {
   "cell_type": "markdown",
   "id": "b0f25fa5",
   "metadata": {},
   "source": [
    "# Question 2"
   ]
  },
  {
   "cell_type": "code",
   "execution_count": 6,
   "id": "9ae2da72",
   "metadata": {},
   "outputs": [
    {
     "data": {
      "text/html": [
       "<div>\n",
       "<style scoped>\n",
       "    .dataframe tbody tr th:only-of-type {\n",
       "        vertical-align: middle;\n",
       "    }\n",
       "\n",
       "    .dataframe tbody tr th {\n",
       "        vertical-align: top;\n",
       "    }\n",
       "\n",
       "    .dataframe thead th {\n",
       "        text-align: right;\n",
       "    }\n",
       "</style>\n",
       "<table border=\"1\" class=\"dataframe\">\n",
       "  <thead>\n",
       "    <tr style=\"text-align: right;\">\n",
       "      <th></th>\n",
       "      <th>age</th>\n",
       "      <th>sex</th>\n",
       "      <th>cp</th>\n",
       "      <th>trestbps</th>\n",
       "      <th>chol</th>\n",
       "      <th>fbs</th>\n",
       "      <th>restecg</th>\n",
       "      <th>thalach</th>\n",
       "      <th>exang</th>\n",
       "      <th>oldpeak</th>\n",
       "      <th>slope</th>\n",
       "      <th>ca</th>\n",
       "      <th>thal</th>\n",
       "      <th>target</th>\n",
       "    </tr>\n",
       "  </thead>\n",
       "  <tbody>\n",
       "    <tr>\n",
       "      <th>0</th>\n",
       "      <td>63</td>\n",
       "      <td>1</td>\n",
       "      <td>3</td>\n",
       "      <td>145</td>\n",
       "      <td>233</td>\n",
       "      <td>1</td>\n",
       "      <td>0</td>\n",
       "      <td>150</td>\n",
       "      <td>0</td>\n",
       "      <td>2.3</td>\n",
       "      <td>0</td>\n",
       "      <td>0</td>\n",
       "      <td>1</td>\n",
       "      <td>1</td>\n",
       "    </tr>\n",
       "    <tr>\n",
       "      <th>1</th>\n",
       "      <td>37</td>\n",
       "      <td>1</td>\n",
       "      <td>2</td>\n",
       "      <td>130</td>\n",
       "      <td>250</td>\n",
       "      <td>0</td>\n",
       "      <td>1</td>\n",
       "      <td>187</td>\n",
       "      <td>0</td>\n",
       "      <td>3.5</td>\n",
       "      <td>0</td>\n",
       "      <td>0</td>\n",
       "      <td>2</td>\n",
       "      <td>1</td>\n",
       "    </tr>\n",
       "    <tr>\n",
       "      <th>2</th>\n",
       "      <td>41</td>\n",
       "      <td>0</td>\n",
       "      <td>1</td>\n",
       "      <td>130</td>\n",
       "      <td>204</td>\n",
       "      <td>0</td>\n",
       "      <td>0</td>\n",
       "      <td>172</td>\n",
       "      <td>0</td>\n",
       "      <td>1.4</td>\n",
       "      <td>2</td>\n",
       "      <td>0</td>\n",
       "      <td>2</td>\n",
       "      <td>1</td>\n",
       "    </tr>\n",
       "    <tr>\n",
       "      <th>3</th>\n",
       "      <td>56</td>\n",
       "      <td>1</td>\n",
       "      <td>1</td>\n",
       "      <td>120</td>\n",
       "      <td>236</td>\n",
       "      <td>0</td>\n",
       "      <td>1</td>\n",
       "      <td>178</td>\n",
       "      <td>0</td>\n",
       "      <td>0.8</td>\n",
       "      <td>2</td>\n",
       "      <td>0</td>\n",
       "      <td>2</td>\n",
       "      <td>1</td>\n",
       "    </tr>\n",
       "    <tr>\n",
       "      <th>4</th>\n",
       "      <td>57</td>\n",
       "      <td>0</td>\n",
       "      <td>0</td>\n",
       "      <td>120</td>\n",
       "      <td>354</td>\n",
       "      <td>0</td>\n",
       "      <td>1</td>\n",
       "      <td>163</td>\n",
       "      <td>1</td>\n",
       "      <td>0.6</td>\n",
       "      <td>2</td>\n",
       "      <td>0</td>\n",
       "      <td>2</td>\n",
       "      <td>1</td>\n",
       "    </tr>\n",
       "    <tr>\n",
       "      <th>...</th>\n",
       "      <td>...</td>\n",
       "      <td>...</td>\n",
       "      <td>...</td>\n",
       "      <td>...</td>\n",
       "      <td>...</td>\n",
       "      <td>...</td>\n",
       "      <td>...</td>\n",
       "      <td>...</td>\n",
       "      <td>...</td>\n",
       "      <td>...</td>\n",
       "      <td>...</td>\n",
       "      <td>...</td>\n",
       "      <td>...</td>\n",
       "      <td>...</td>\n",
       "    </tr>\n",
       "    <tr>\n",
       "      <th>298</th>\n",
       "      <td>57</td>\n",
       "      <td>0</td>\n",
       "      <td>0</td>\n",
       "      <td>140</td>\n",
       "      <td>241</td>\n",
       "      <td>0</td>\n",
       "      <td>1</td>\n",
       "      <td>123</td>\n",
       "      <td>1</td>\n",
       "      <td>0.2</td>\n",
       "      <td>1</td>\n",
       "      <td>0</td>\n",
       "      <td>3</td>\n",
       "      <td>0</td>\n",
       "    </tr>\n",
       "    <tr>\n",
       "      <th>299</th>\n",
       "      <td>45</td>\n",
       "      <td>1</td>\n",
       "      <td>3</td>\n",
       "      <td>110</td>\n",
       "      <td>264</td>\n",
       "      <td>0</td>\n",
       "      <td>1</td>\n",
       "      <td>132</td>\n",
       "      <td>0</td>\n",
       "      <td>1.2</td>\n",
       "      <td>1</td>\n",
       "      <td>0</td>\n",
       "      <td>3</td>\n",
       "      <td>0</td>\n",
       "    </tr>\n",
       "    <tr>\n",
       "      <th>300</th>\n",
       "      <td>68</td>\n",
       "      <td>1</td>\n",
       "      <td>0</td>\n",
       "      <td>144</td>\n",
       "      <td>193</td>\n",
       "      <td>1</td>\n",
       "      <td>1</td>\n",
       "      <td>141</td>\n",
       "      <td>0</td>\n",
       "      <td>3.4</td>\n",
       "      <td>1</td>\n",
       "      <td>2</td>\n",
       "      <td>3</td>\n",
       "      <td>0</td>\n",
       "    </tr>\n",
       "    <tr>\n",
       "      <th>301</th>\n",
       "      <td>57</td>\n",
       "      <td>1</td>\n",
       "      <td>0</td>\n",
       "      <td>130</td>\n",
       "      <td>131</td>\n",
       "      <td>0</td>\n",
       "      <td>1</td>\n",
       "      <td>115</td>\n",
       "      <td>1</td>\n",
       "      <td>1.2</td>\n",
       "      <td>1</td>\n",
       "      <td>1</td>\n",
       "      <td>3</td>\n",
       "      <td>0</td>\n",
       "    </tr>\n",
       "    <tr>\n",
       "      <th>302</th>\n",
       "      <td>57</td>\n",
       "      <td>0</td>\n",
       "      <td>1</td>\n",
       "      <td>130</td>\n",
       "      <td>236</td>\n",
       "      <td>0</td>\n",
       "      <td>0</td>\n",
       "      <td>174</td>\n",
       "      <td>0</td>\n",
       "      <td>0.0</td>\n",
       "      <td>1</td>\n",
       "      <td>1</td>\n",
       "      <td>2</td>\n",
       "      <td>0</td>\n",
       "    </tr>\n",
       "  </tbody>\n",
       "</table>\n",
       "<p>303 rows × 14 columns</p>\n",
       "</div>"
      ],
      "text/plain": [
       "     age  sex  cp  trestbps  chol  fbs  restecg  thalach  exang  oldpeak  \\\n",
       "0     63    1   3       145   233    1        0      150      0      2.3   \n",
       "1     37    1   2       130   250    0        1      187      0      3.5   \n",
       "2     41    0   1       130   204    0        0      172      0      1.4   \n",
       "3     56    1   1       120   236    0        1      178      0      0.8   \n",
       "4     57    0   0       120   354    0        1      163      1      0.6   \n",
       "..   ...  ...  ..       ...   ...  ...      ...      ...    ...      ...   \n",
       "298   57    0   0       140   241    0        1      123      1      0.2   \n",
       "299   45    1   3       110   264    0        1      132      0      1.2   \n",
       "300   68    1   0       144   193    1        1      141      0      3.4   \n",
       "301   57    1   0       130   131    0        1      115      1      1.2   \n",
       "302   57    0   1       130   236    0        0      174      0      0.0   \n",
       "\n",
       "     slope  ca  thal  target  \n",
       "0        0   0     1       1  \n",
       "1        0   0     2       1  \n",
       "2        2   0     2       1  \n",
       "3        2   0     2       1  \n",
       "4        2   0     2       1  \n",
       "..     ...  ..   ...     ...  \n",
       "298      1   0     3       0  \n",
       "299      1   0     3       0  \n",
       "300      1   2     3       0  \n",
       "301      1   1     3       0  \n",
       "302      1   1     2       0  \n",
       "\n",
       "[303 rows x 14 columns]"
      ]
     },
     "execution_count": 6,
     "metadata": {},
     "output_type": "execute_result"
    }
   ],
   "source": [
    "#read in csv\n",
    "heart = pd.read_csv('heart.csv')\n",
    "heart"
   ]
  },
  {
   "cell_type": "code",
   "execution_count": 7,
   "id": "ca32a444",
   "metadata": {},
   "outputs": [],
   "source": [
    "# split data\n",
    "X = heart.iloc[: , :-1]\n",
    "y = heart.iloc[: , -1:]"
   ]
  },
  {
   "cell_type": "markdown",
   "id": "fb10f1f3",
   "metadata": {},
   "source": [
    "### 2a."
   ]
  },
  {
   "cell_type": "code",
   "execution_count": 8,
   "id": "7c28b991",
   "metadata": {},
   "outputs": [],
   "source": [
    "# split train and data\n",
    "X_train, X_test, y_train, y_test = train_test_split(X, y, test_size=103, random_state=0)"
   ]
  },
  {
   "cell_type": "code",
   "execution_count": 9,
   "id": "cbb2255b",
   "metadata": {},
   "outputs": [],
   "source": [
    "# create and fit classifier to select model\n",
    "clf = LogisticRegression(max_iter=2000).fit(X_train, y_train.values.ravel())"
   ]
  },
  {
   "cell_type": "code",
   "execution_count": 10,
   "id": "a2824f88",
   "metadata": {},
   "outputs": [
    {
     "data": {
      "text/plain": [
       "array([[ 0.01081608, -1.72593982,  0.73508357, -0.01307536, -0.00556325,\n",
       "        -0.59211334,  0.15525541,  0.02985058, -0.79931386, -0.60528941,\n",
       "         0.29144702, -0.78197393, -0.82098076]])"
      ]
     },
     "execution_count": 10,
     "metadata": {},
     "output_type": "execute_result"
    }
   ],
   "source": [
    "# display model\n",
    "clf.coef_"
   ]
  },
  {
   "cell_type": "code",
   "execution_count": 11,
   "id": "2b07c2cb",
   "metadata": {},
   "outputs": [],
   "source": [
    "# create and fit classifier to select model\n",
    "selection = SelectFromModel(estimator=clf, threshold=-np.inf, max_features = 3).fit(X_train, y_train.values.ravel())"
   ]
  },
  {
   "cell_type": "code",
   "execution_count": 12,
   "id": "5eaec49e",
   "metadata": {},
   "outputs": [
    {
     "data": {
      "text/plain": [
       "['sex', 'exang', 'thal']"
      ]
     },
     "execution_count": 12,
     "metadata": {},
     "output_type": "execute_result"
    }
   ],
   "source": [
    "# get 3 features\n",
    "selection = X_train.columns[(selection.get_support())]\n",
    "selection = selection.tolist()\n",
    "selection"
   ]
  },
  {
   "cell_type": "markdown",
   "id": "3742395b",
   "metadata": {},
   "source": [
    "The three most influential features would be sex, exang, and thal. "
   ]
  },
  {
   "cell_type": "markdown",
   "id": "c930eae1",
   "metadata": {},
   "source": [
    "### 2b."
   ]
  },
  {
   "cell_type": "code",
   "execution_count": 13,
   "id": "0f84b92d",
   "metadata": {},
   "outputs": [
    {
     "name": "stdout",
     "output_type": "stream",
     "text": [
      "The test error of my model is 0.17475728155339806\n"
     ]
    }
   ],
   "source": [
    "# find test error\n",
    "predictions = clf.predict(X_test)\n",
    "testing_error = mean_squared_error(y_test,predictions)\n",
    "\n",
    "print('The test error of my model is %s' % testing_error)"
   ]
  },
  {
   "cell_type": "markdown",
   "id": "2fc3cacf",
   "metadata": {},
   "source": [
    "### 2c."
   ]
  },
  {
   "cell_type": "code",
   "execution_count": 14,
   "id": "84f79e67",
   "metadata": {},
   "outputs": [
    {
     "name": "stdout",
     "output_type": "stream",
     "text": [
      "The training error of my 5-fold cross validation model is 0.195\n"
     ]
    }
   ],
   "source": [
    "# find validation error on training set\n",
    "cv = KFold(n_splits=5, random_state=0, shuffle=True)\n",
    "model = LogisticRegression(max_iter=2000)\n",
    "y_pred = cross_val_predict(model, X_train, y_train.values.ravel(), cv=cv)\n",
    "testing_error1 = mean_squared_error(y_train,y_pred)\n",
    "print('The training error of my 5-fold cross validation model is %s' % testing_error1)"
   ]
  },
  {
   "cell_type": "markdown",
   "id": "1b34a96b",
   "metadata": {},
   "source": [
    "The training error from the 5-fold cross-validation was higher than the testing error."
   ]
  },
  {
   "cell_type": "markdown",
   "id": "87391ac7",
   "metadata": {},
   "source": [
    "# Question 3"
   ]
  },
  {
   "cell_type": "markdown",
   "id": "8d7ea30a",
   "metadata": {},
   "source": [
    "### 3a. "
   ]
  },
  {
   "cell_type": "code",
   "execution_count": 15,
   "id": "1adbbd18",
   "metadata": {},
   "outputs": [],
   "source": [
    "# stepwise regression\n",
    "k = [1, 2, 3, 4, 5, 6, 7, 8, 9, 10, 11, 12, 13]\n",
    "\n",
    "test_error = []\n",
    "validation_error = []\n",
    "\n",
    "for i in k:\n",
    "    # stepwise regression\n",
    "    step_reg = SequentialFeatureSelector(LogisticRegression(max_iter = 2000),\n",
    "                                     n_features_to_select = i/len(k),\n",
    "                                     direction='forward',\n",
    "                                     scoring='neg_mean_squared_error',cv=None)\n",
    "    selec_feat = step_reg.fit(X, y.values.ravel())\n",
    "\n",
    "    # find select features\n",
    "    features = X.columns[(selec_feat.get_support())]\n",
    "    features = features.tolist()\n",
    "    select = X[features]\n",
    "\n",
    "    # split the data into train and test \n",
    "    X_train, X_test, y_train, y_test = train_test_split(select, y,test_size=0.2,random_state=0)\n",
    "\n",
    "    # fit a logistic regression model\n",
    "    logreg = LogisticRegression(max_iter = 2000)\n",
    "    logreg.fit(X_train, y_train.values.ravel())\n",
    "\n",
    "    # find test error\n",
    "    y_pred = logreg.predict(X_test)\n",
    "    testing_error = mean_squared_error(y_test,y_pred)\n",
    "    test_error.append(testing_error)\n",
    "    \n",
    "    # find validation error on test set\n",
    "    cv = KFold(n_splits=10, random_state=0, shuffle=True)\n",
    "    model = LogisticRegression(max_iter = 2000)\n",
    "    y_pred = cross_val_predict(model, X_test, y_test.values.ravel(), cv=cv)\n",
    "    testing_error1 = mean_squared_error(y_test,y_pred)\n",
    "    validation_error.append(testing_error1)"
   ]
  },
  {
   "cell_type": "code",
   "execution_count": 16,
   "id": "2d02792d",
   "metadata": {},
   "outputs": [
    {
     "data": {
      "text/plain": [
       "Text(0.5, 1.0, 'Test and Validation Error by K-value')"
      ]
     },
     "execution_count": 16,
     "metadata": {},
     "output_type": "execute_result"
    },
    {
     "data": {
      "image/png": "[encoded data removed]",
      "text/plain": [
       "<Figure size 432x288 with 1 Axes>"
      ]
     },
     "metadata": {
      "needs_background": "light"
     },
     "output_type": "display_data"
    }
   ],
   "source": [
    "# plot graph\n",
    "plt.plot(k, test_error, label = 'Test Error')\n",
    "plt.plot(k, validation_error, '-.', label = 'Validation Error' )\n",
    "\n",
    "plt.xlabel(\"K-value\")\n",
    "plt.ylabel(\"Error\")\n",
    "plt.legend()\n",
    "plt.title('Test and Validation Error by K-value')"
   ]
  },
  {
   "cell_type": "markdown",
   "id": "1e22a451",
   "metadata": {},
   "source": [
    "### 3b. "
   ]
  },
  {
   "cell_type": "code",
   "execution_count": 17,
   "id": "c060d0cb",
   "metadata": {},
   "outputs": [
    {
     "data": {
      "text/plain": [
       "['cp', 'ca']"
      ]
     },
     "execution_count": 17,
     "metadata": {},
     "output_type": "execute_result"
    }
   ],
   "source": [
    "# stepwise regression\n",
    "step_reg = SequentialFeatureSelector(LogisticRegression(max_iter=5000),\n",
    "                                     n_features_to_select = 2/13,\n",
    "                                     direction='forward',\n",
    "                                     scoring='neg_mean_squared_error',cv=None)\n",
    "selec_feat = step_reg.fit(X, y.values.ravel())\n",
    "\n",
    "# find select features\n",
    "features = X.columns[(selec_feat.get_support())]\n",
    "features = features.tolist()\n",
    "features"
   ]
  },
  {
   "cell_type": "code",
   "execution_count": 18,
   "id": "a8fb7d60",
   "metadata": {},
   "outputs": [
    {
     "data": {
      "text/plain": [
       "LogisticRegression(max_iter=2000)"
      ]
     },
     "execution_count": 18,
     "metadata": {},
     "output_type": "execute_result"
    }
   ],
   "source": [
    "select = X[features]\n",
    "\n",
    "# fit a logistic regression model\n",
    "logreg = LogisticRegression(max_iter = 2000)\n",
    "logreg.fit(select.values, y.values.ravel())"
   ]
  },
  {
   "cell_type": "code",
   "execution_count": 19,
   "id": "a331d2d5",
   "metadata": {},
   "outputs": [
    {
     "data": {
      "text/plain": [
       "Text(0.5, 1.0, 'Decision Boundary for k=2')"
      ]
     },
     "execution_count": 19,
     "metadata": {},
     "output_type": "execute_result"
    },
    {
     "data": {
      "image/png": "[encoded data removed]",
      "text/plain": [
       "<Figure size 1440x432 with 1 Axes>"
      ]
     },
     "metadata": {
      "needs_background": "light"
     },
     "output_type": "display_data"
    }
   ],
   "source": [
    "# plotting the decision boundary in the scatter plot of Training and Test Set with labels indicated by colors\n",
    "x_min, x_max = select.iloc[:, :1].min().min() - 1, select.iloc[:, :1].max().max() + 1\n",
    "y_min, y_max = select.iloc[:, -1:].min().min() - 1, select.iloc[:, -1:].max().max() + 1\n",
    "\n",
    "x_val, y_val = np.meshgrid(np.arange(x_min, x_max, 0.1),np.arange(y_min, y_max, 0.1))\n",
    "\n",
    "Z_val = logreg.predict(np.c_[x_val.ravel(), y_val.ravel()])\n",
    "Z_val = Z_val.reshape(x_val.shape)\n",
    "\n",
    "\n",
    "plt.figure(figsize = (20, 6))\n",
    "plt.subplot(1, 2, 1)\n",
    "plt.contourf(x_val, y_val, Z_val)\n",
    "plt.scatter(select.iloc[:, :1], select.iloc[:, -1:])\n",
    "plt.xlabel('cp')\n",
    "plt.ylabel('ca')\n",
    "plt.title('Decision Boundary for k=2')"
   ]
  },
  {
   "cell_type": "code",
   "execution_count": null,
   "id": "8909c184",
   "metadata": {},
   "outputs": [],
   "source": []
  }
 ],
 "metadata": {
  "kernelspec": {
   "display_name": "Python 3 (ipykernel)",
   "language": "python",
   "name": "python3"
  },
  "language_info": {
   "codemirror_mode": {
    "name": "ipython",
    "version": 3
   },
   "file_extension": ".py",
   "mimetype": "text/x-python",
   "name": "python",
   "nbconvert_exporter": "python",
   "pygments_lexer": "ipython3",
   "version": "3.9.12"
  }
 },
 "nbformat": 4,
 "nbformat_minor": 5
}
